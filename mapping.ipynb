{
 "cells": [
  {
   "cell_type": "code",
   "execution_count": 756,
   "metadata": {
    "collapsed": true
   },
   "outputs": [],
   "source": [
    "import pandas as pd\n",
    "import numpy as np"
   ]
  },
  {
   "cell_type": "markdown",
   "metadata": {},
   "source": [
    "### Layout 1"
   ]
  },
  {
   "cell_type": "code",
   "execution_count": 757,
   "metadata": {},
   "outputs": [],
   "source": [
    "df= pd.read_excel('location.xlsx', sheet_name= 'Layout #1') #Read in the macro layouts"
   ]
  },
  {
   "cell_type": "code",
   "execution_count": 758,
   "metadata": {
    "scrolled": false
   },
   "outputs": [
    {
     "data": {
      "text/plain": [
       "'A-13-S61-P1'"
      ]
     },
     "execution_count": 758,
     "metadata": {},
     "output_type": "execute_result"
    }
   ],
   "source": [
    "df1= pd.read_excel('location.xlsx', sheetname= 'Layout #1', header=None) #Read in the macro layouts a different way.\n",
    "#Delete underscore\n",
    "df1 = df1.drop([0],axis = 0)\n",
    "df12 = df1.replace(np.nan, '', regex=True)\n",
    "\n",
    "df12[1][1] # First element begins at [1][1]. This is important\n"
   ]
  },
  {
   "cell_type": "code",
   "execution_count": 759,
   "metadata": {},
   "outputs": [],
   "source": [
    "data= pd.read_excel('data.xlsx', sheet_name= 'Sheet1',header=None) #Read in the broken panel locations"
   ]
  },
  {
   "cell_type": "code",
   "execution_count": 760,
   "metadata": {},
   "outputs": [
    {
     "data": {
      "text/html": [
       "<div>\n",
       "<style>\n",
       "    .dataframe thead tr:only-child th {\n",
       "        text-align: right;\n",
       "    }\n",
       "\n",
       "    .dataframe thead th {\n",
       "        text-align: left;\n",
       "    }\n",
       "\n",
       "    .dataframe tbody tr th {\n",
       "        vertical-align: top;\n",
       "    }\n",
       "</style>\n",
       "<table border=\"1\" class=\"dataframe\">\n",
       "  <thead>\n",
       "    <tr style=\"text-align: right;\">\n",
       "      <th></th>\n",
       "      <th>0</th>\n",
       "      <th>1</th>\n",
       "    </tr>\n",
       "  </thead>\n",
       "  <tbody>\n",
       "    <tr>\n",
       "      <th>0</th>\n",
       "      <td>A-11-S21-P14</td>\n",
       "      <td>120919-31-M285MI-0038</td>\n",
       "    </tr>\n",
       "    <tr>\n",
       "      <th>1</th>\n",
       "      <td>A-11-S31-P2</td>\n",
       "      <td>120914-31-M285MI-0089</td>\n",
       "    </tr>\n",
       "    <tr>\n",
       "      <th>2</th>\n",
       "      <td>A-11-S32-P21</td>\n",
       "      <td>120913-31-M285MI-0812</td>\n",
       "    </tr>\n",
       "    <tr>\n",
       "      <th>3</th>\n",
       "      <td>A-11-S33-P53</td>\n",
       "      <td>120913-31-M285MI-1059</td>\n",
       "    </tr>\n",
       "    <tr>\n",
       "      <th>4</th>\n",
       "      <td>A-11-S53-P44</td>\n",
       "      <td>120913-31-M285MI-1091</td>\n",
       "    </tr>\n",
       "  </tbody>\n",
       "</table>\n",
       "</div>"
      ],
      "text/plain": [
       "              0                      1\n",
       "0  A-11-S21-P14  120919-31-M285MI-0038\n",
       "1   A-11-S31-P2  120914-31-M285MI-0089\n",
       "2  A-11-S32-P21  120913-31-M285MI-0812\n",
       "3  A-11-S33-P53  120913-31-M285MI-1059\n",
       "4  A-11-S53-P44  120913-31-M285MI-1091"
      ]
     },
     "execution_count": 760,
     "metadata": {},
     "output_type": "execute_result"
    }
   ],
   "source": [
    "#Only hit this block once\n",
    "A = data.iloc[:,0] # Select the location column in data\n",
    "Macro_Label = [] #initialize the macrolocation list (2A-4, 3B-7, etc)\n",
    "for i,element in enumerate(A): # Loop through the column\n",
    "    Macro_Label.append(element[0:4]) #Append the macro labels\n",
    "    data.iloc[i,0] = element[4:len(element)] #Delete the macro labels from data\n",
    "    \n",
    "data.head()"
   ]
  },
  {
   "cell_type": "code",
   "execution_count": 761,
   "metadata": {
    "collapsed": true
   },
   "outputs": [],
   "source": [
    "locations= data[data.columns[0]].values #Split up locations into its own column\n",
    "serials= data[data.columns[1]].values #Split up serials into its own column\n",
    "Sorting_dict = {} #Initialize a dictionary that sorts everything by macrolocation\n",
    "for i, element in enumerate(Macro_Label): #This loop stores all similar locations under the same macrolable. \n",
    "    if element in Sorting_dict: # The dictionary is read Loc1, serial 1, Loc2, Serial 2, .....\n",
    "        Sorting_dict[element].append(locations[i])\n",
    "        Sorting_dict[element].append(serials[i])\n",
    "    else: \n",
    "        Sorting_dict[element] = [locations[i]]\n",
    "        Sorting_dict[element].append(serials[i])"
   ]
  },
  {
   "cell_type": "code",
   "execution_count": 762,
   "metadata": {},
   "outputs": [],
   "source": [
    "#locations_big= np.random.choice(locations,20000)\n",
    "#serials_big= np.random.choice(serials,20000)\n",
    "#print(df12[0][1], df12[5][2], df12[3][2])"
   ]
  },
  {
   "cell_type": "code",
   "execution_count": 763,
   "metadata": {
    "collapsed": true
   },
   "outputs": [],
   "source": [
    "def fragment(df): #This function takes in a large data frames (df) and splits it up into four smaller ones based on inverter labels\n",
    "    letters=['A','B','C','D'] #Inverter labels\n",
    "    n= 0 #Used as a counter\n",
    "    i = 1 #We are always drawing from the second column of the dataframe. Starting from the second generates an error.\n",
    "    DF_list = [[],[],[],[]] #Initilize the list of smaller data frame outputs\n",
    "    for r,j in enumerate(letters): #This loop creates the smaller dataframes\n",
    "        P = 0.1 #These values have meaning in the four loop\n",
    "        P1 = 0.1\n",
    "        for f,k in enumerate(df.T): #We take the transpose here so that f numbers from 0 to however many rows there are\n",
    "            n = f+1 #Because the first element starts at [1][1]\n",
    "            if df[i][n] == '': # Skip the blank space but don't change the P values\n",
    "                continue\n",
    "            elif j in df[i][n]: \n",
    "                if P == .1:# Record the first location that shows any given inverter\n",
    "                    P = n\n",
    "                    #print(P)\n",
    "            elif P != .1: # Record the last location that shows any given inverter\n",
    "                P1 = n\n",
    "                #print(P1)\n",
    "                break\n",
    "            else:\n",
    "                continue\n",
    "        if P1 == .1: #Generate the list of lists from the P values\n",
    "            DF_list[r] = df.iloc[P-1:,:] #The last inverter needs to cover the rest of the corresponding list\n",
    "        else:\n",
    "            DF_list[r] = df.iloc[P-1:P1-1,:]\n",
    "        \n",
    "    return DF_list #List of dataframes"
   ]
  },
  {
   "cell_type": "code",
   "execution_count": 764,
   "metadata": {},
   "outputs": [
    {
     "data": {
      "text/html": [
       "<div>\n",
       "<style>\n",
       "    .dataframe thead tr:only-child th {\n",
       "        text-align: right;\n",
       "    }\n",
       "\n",
       "    .dataframe thead th {\n",
       "        text-align: left;\n",
       "    }\n",
       "\n",
       "    .dataframe tbody tr th {\n",
       "        vertical-align: top;\n",
       "    }\n",
       "</style>\n",
       "<table border=\"1\" class=\"dataframe\">\n",
       "  <thead>\n",
       "    <tr style=\"text-align: right;\">\n",
       "      <th></th>\n",
       "      <th></th>\n",
       "      <th>B-13-S6</th>\n",
       "      <th></th>\n",
       "      <th>B-13-S5</th>\n",
       "      <th></th>\n",
       "      <th>B-13-S4</th>\n",
       "      <th></th>\n",
       "      <th>B-13-S3</th>\n",
       "      <th></th>\n",
       "      <th>B-13-S2</th>\n",
       "      <th>...</th>\n",
       "      <th></th>\n",
       "      <th></th>\n",
       "      <th></th>\n",
       "      <th></th>\n",
       "      <th></th>\n",
       "      <th></th>\n",
       "      <th></th>\n",
       "      <th></th>\n",
       "      <th></th>\n",
       "      <th>buffer</th>\n",
       "    </tr>\n",
       "  </thead>\n",
       "  <tbody>\n",
       "    <tr>\n",
       "      <th>64</th>\n",
       "      <td></td>\n",
       "      <td>B-13-S61-P1</td>\n",
       "      <td></td>\n",
       "      <td>B-13-S51-P1</td>\n",
       "      <td></td>\n",
       "      <td>B-13-S41-P1</td>\n",
       "      <td></td>\n",
       "      <td>B-13-S31-P1</td>\n",
       "      <td></td>\n",
       "      <td>B-13-S21-P1</td>\n",
       "      <td>...</td>\n",
       "      <td></td>\n",
       "      <td></td>\n",
       "      <td></td>\n",
       "      <td></td>\n",
       "      <td></td>\n",
       "      <td></td>\n",
       "      <td></td>\n",
       "      <td></td>\n",
       "      <td></td>\n",
       "      <td></td>\n",
       "    </tr>\n",
       "    <tr>\n",
       "      <th>65</th>\n",
       "      <td></td>\n",
       "      <td>B-13-S61-P2</td>\n",
       "      <td></td>\n",
       "      <td>B-13-S51-P2</td>\n",
       "      <td></td>\n",
       "      <td>B-13-S41-P2</td>\n",
       "      <td></td>\n",
       "      <td>B-13-S31-P2</td>\n",
       "      <td></td>\n",
       "      <td>B-13-S21-P2</td>\n",
       "      <td>...</td>\n",
       "      <td></td>\n",
       "      <td></td>\n",
       "      <td></td>\n",
       "      <td></td>\n",
       "      <td></td>\n",
       "      <td></td>\n",
       "      <td></td>\n",
       "      <td></td>\n",
       "      <td></td>\n",
       "      <td></td>\n",
       "    </tr>\n",
       "    <tr>\n",
       "      <th>66</th>\n",
       "      <td></td>\n",
       "      <td>B-13-S61-P3</td>\n",
       "      <td></td>\n",
       "      <td>B-13-S51-P3</td>\n",
       "      <td></td>\n",
       "      <td>B-13-S41-P3</td>\n",
       "      <td></td>\n",
       "      <td>B-13-S31-P3</td>\n",
       "      <td></td>\n",
       "      <td>B-13-S21-P3</td>\n",
       "      <td>...</td>\n",
       "      <td></td>\n",
       "      <td></td>\n",
       "      <td></td>\n",
       "      <td></td>\n",
       "      <td></td>\n",
       "      <td></td>\n",
       "      <td></td>\n",
       "      <td></td>\n",
       "      <td></td>\n",
       "      <td></td>\n",
       "    </tr>\n",
       "    <tr>\n",
       "      <th>67</th>\n",
       "      <td></td>\n",
       "      <td>B-13-S61-P4</td>\n",
       "      <td></td>\n",
       "      <td>B-13-S51-P4</td>\n",
       "      <td></td>\n",
       "      <td>B-13-S41-P4</td>\n",
       "      <td></td>\n",
       "      <td>B-13-S31-P4</td>\n",
       "      <td></td>\n",
       "      <td>B-13-S21-P4</td>\n",
       "      <td>...</td>\n",
       "      <td></td>\n",
       "      <td></td>\n",
       "      <td></td>\n",
       "      <td></td>\n",
       "      <td></td>\n",
       "      <td></td>\n",
       "      <td></td>\n",
       "      <td></td>\n",
       "      <td></td>\n",
       "      <td></td>\n",
       "    </tr>\n",
       "    <tr>\n",
       "      <th>68</th>\n",
       "      <td></td>\n",
       "      <td>B-13-S61-P5</td>\n",
       "      <td></td>\n",
       "      <td>B-13-S51-P5</td>\n",
       "      <td></td>\n",
       "      <td>B-13-S41-P5</td>\n",
       "      <td></td>\n",
       "      <td>B-13-S31-P5</td>\n",
       "      <td></td>\n",
       "      <td>B-13-S21-P5</td>\n",
       "      <td>...</td>\n",
       "      <td></td>\n",
       "      <td></td>\n",
       "      <td></td>\n",
       "      <td></td>\n",
       "      <td></td>\n",
       "      <td></td>\n",
       "      <td></td>\n",
       "      <td></td>\n",
       "      <td></td>\n",
       "      <td></td>\n",
       "    </tr>\n",
       "  </tbody>\n",
       "</table>\n",
       "<p>5 rows × 92 columns</p>\n",
       "</div>"
      ],
      "text/plain": [
       "          B-13-S6        B-13-S5        B-13-S4        B-13-S3        B-13-S2  \\\n",
       "64    B-13-S61-P1    B-13-S51-P1    B-13-S41-P1    B-13-S31-P1    B-13-S21-P1   \n",
       "65    B-13-S61-P2    B-13-S51-P2    B-13-S41-P2    B-13-S31-P2    B-13-S21-P2   \n",
       "66    B-13-S61-P3    B-13-S51-P3    B-13-S41-P3    B-13-S31-P3    B-13-S21-P3   \n",
       "67    B-13-S61-P4    B-13-S51-P4    B-13-S41-P4    B-13-S31-P4    B-13-S21-P4   \n",
       "68    B-13-S61-P5    B-13-S51-P5    B-13-S41-P5    B-13-S31-P5    B-13-S21-P5   \n",
       "\n",
       "    ...                     buffer  \n",
       "64  ...                             \n",
       "65  ...                             \n",
       "66  ...                             \n",
       "67  ...                             \n",
       "68  ...                             \n",
       "\n",
       "[5 rows x 92 columns]"
      ]
     },
     "execution_count": 764,
     "metadata": {},
     "output_type": "execute_result"
    }
   ],
   "source": [
    "o = fragment(df12) #Call the fragment function\n",
    "L = len(DF_list) \n",
    "for i in range(0,L): #Loop through all elements of the list of dataframes\n",
    "    temp=DF_list[i].iloc[0,:] #Generate a temp dataframe\n",
    "    labels=[]\n",
    "    for y in temp:\n",
    "        if len(y) != 0: \n",
    "            labels.append(y[0:7]) #Label all columns with the appropriate headers (ex. A-11-S5)\n",
    "        else:\n",
    "            labels.append(y)\n",
    "    DF_list[i].columns=labels\n",
    "    DF_list[i]['buffer'] = '' #Buffer the dataframe with an empty column so serial numbers can be placed in this column\n",
    "DF_list[1].head()"
   ]
  },
  {
   "cell_type": "markdown",
   "metadata": {},
   "source": [
    "Sorting Algorithm. We will also need to sort data into proper layout. This should be done externally, as filtering within function will increase execution time."
   ]
  },
  {
   "cell_type": "code",
   "execution_count": 821,
   "metadata": {},
   "outputs": [
    {
     "data": {
      "text/plain": [
       "'X Y'"
      ]
     },
     "execution_count": 821,
     "metadata": {},
     "output_type": "execute_result"
    }
   ],
   "source": []
  },
  {
   "cell_type": "code",
   "execution_count": 823,
   "metadata": {},
   "outputs": [],
   "source": [
    "def map(z): #Takes in the locations of all failed modules\n",
    "    da=DF_list[0].copy(deep=True) #All dataframes are put into a dictionary (below)\n",
    "    db=DF_list[1].copy(deep=True)\n",
    "    dc=DF_list[2].copy(deep=True)\n",
    "    dd=DF_list[3].copy(deep=True)\n",
    "    temp=[da,db,dc,dd]\n",
    "    dic={'A':da, 'B':db, 'C':dc, 'D':dd}\n",
    "    for i,n in enumerate(z):\n",
    "        inverter= n[0] #n[4] #Selects proper inverter\n",
    "        in_map= dic[inverter] #Selects proper dataframe, given the inverter\n",
    "        column = n[0:7] #Selects the proper column\n",
    "        row = in_map[column][:].values.tolist().index(n) #Select the proper row.\n",
    "        col= in_map.columns.get_loc(column)\n",
    "        in_map.iloc[row,(col+1)]=serials[i] #Input the sserial numbers\n",
    "        in_map.iloc[row,col] = 'X '+n #Renames the cell location for later excel formatting\n",
    "    for i in temp:\n",
    "        i.columns= np.arange(len(i.columns))\n",
    "    return [da,db,dc,dd]"
   ]
  },
  {
   "cell_type": "code",
   "execution_count": 830,
   "metadata": {},
   "outputs": [],
   "source": [
    "format1 = workbook.add_format({'font_color': '#9C0006'})\n",
    "\n",
    "for item in Sorting_dict: #Loop through all macro locations and generate a map based on the results\n",
    "    locations = Sorting_dict[item][0::2] #Locations are every other element\n",
    "    serials = Sorting_dict[item][1::2] #Serials are every other element\n",
    "    s= map(locations) #Call the mapping function\n",
    "    final= pd.concat(s, axis=0, ignore_index=True)# sort=False)\n",
    "   \n",
    "    \n",
    "    writer = pd.ExcelWriter('pandas_conditional.xlsx', engine='xlsxwriter')\n",
    "    final.to_excel(writer, '%s.xlsx'%item) # Output results to an excel file\n",
    "    workbook  = writer.book\n",
    "    worksheet = writer.sheets['%s.xlsx'%item ]\n",
    "    worksheet.conditional_format('A1', {'type':     'cell',\n",
    "                                    'criteria': 'containing',\n",
    "                                    'value':     'X ',\n",
    "                                    'format':    format1})\n",
    "    writer.save()"
   ]
  },
  {
   "cell_type": "code",
   "execution_count": null,
   "metadata": {},
   "outputs": [],
   "source": []
  },
  {
   "cell_type": "code",
   "execution_count": null,
   "metadata": {
    "collapsed": true
   },
   "outputs": [],
   "source": []
  }
 ],
 "metadata": {
  "kernelspec": {
   "display_name": "Python 3",
   "language": "python",
   "name": "python3"
  },
  "language_info": {
   "codemirror_mode": {
    "name": "ipython",
    "version": 3
   },
   "file_extension": ".py",
   "mimetype": "text/x-python",
   "name": "python",
   "nbconvert_exporter": "python",
   "pygments_lexer": "ipython3",
   "version": "3.6.1"
  }
 },
 "nbformat": 4,
 "nbformat_minor": 2
}
